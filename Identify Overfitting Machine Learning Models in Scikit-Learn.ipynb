{
 "cells": [
  {
   "attachments": {},
   "cell_type": "markdown",
   "metadata": {},
   "source": [
    "### What Is Overfitting?\n",
    "It is the case where model performance on the training dataset is improved at the cost of worse performance on data not seen during training, such as a holdout test dataset or new data.\n",
    "\n",
    "An analysis of learning dynamics can help to identify whether a model has overfit the training dataset and may suggest an alternate configuration to use that could result in better predictive performance.\n",
    "\n",
    "We can identify if a machine learning model has overfit by first evaluating the model on the training dataset and then evaluating the same model on a holdout test dataset.\n",
    "\n",
    "if the performance of the model on the training dataset is significantly better than the performance on the test dataset, then the model may have overfit the training dataset.\n",
    "\n",
    "But what does it mean if a model’s performance is “significantly better” on the training set compared to the test set?"
   ]
  },
  {
   "cell_type": "markdown",
   "metadata": {},
   "source": [
    "### Example of Overfitting in Scikit-Learn\n",
    "In this section, we will look at an example of overfitting a machine learning model to a training dataset.\n",
    "\n",
    "First, let’s define a synthetic classification dataset.\n",
    "\n",
    "We will use the [sklearn.datasets.make_classification()](https://scikit-learn.org/stable/modules/generated/sklearn.datasets.make_classification.html) function to define a binary (two class) classification prediction problem with 10,000 examples (rows) and 20 input features (columns)."
   ]
  },
  {
   "cell_type": "code",
   "execution_count": 1,
   "metadata": {},
   "outputs": [
    {
     "name": "stdout",
     "output_type": "stream",
     "text": [
      "(10000, 20) (10000,)\n"
     ]
    }
   ],
   "source": [
    "# synthetic classification dataset\n",
    "from sklearn.datasets import make_classification\n",
    "# define dataset\n",
    "X, y = make_classification(n_samples=10000, n_features=20, n_informative=5, n_redundant=15, random_state=1)\n",
    "# summarize the dataset\n",
    "print(X.shape, y.shape)"
   ]
  },
  {
   "cell_type": "markdown",
   "metadata": {},
   "source": [
    "Next, we need to split the dataset into train and test subsets.\n",
    "\n",
    "We will use the [sklearn.model_selection.train_test_split()](https://scikit-learn.org/stable/modules/generated/sklearn.model_selection.train_test_split.html) function and split the data into 70 percent for training a model and 30 percent for evaluating it."
   ]
  },
  {
   "cell_type": "code",
   "execution_count": 2,
   "metadata": {},
   "outputs": [
    {
     "name": "stdout",
     "output_type": "stream",
     "text": [
      "(7000, 20) (3000, 20) (7000,) (3000,)\n"
     ]
    }
   ],
   "source": [
    "# split a dataset into train and test sets\n",
    "from sklearn.model_selection import train_test_split\n",
    "# split into train test sets\n",
    "X_train, X_test, y_train, y_test = train_test_split(X, y, test_size=0.3)\n",
    "# summarize the shape of the train and test sets\n",
    "print(X_train.shape, X_test.shape, y_train.shape, y_test.shape)"
   ]
  },
  {
   "cell_type": "markdown",
   "metadata": {},
   "source": [
    "Next, we can explore a machine learning model overfitting the training dataset.\n",
    "\n",
    "We will use a decision tree via the [sklearn.tree.DecisionTreeClassifier()](https://scikit-learn.org/stable/modules/generated/sklearn.tree.DecisionTreeClassifier.html) and test different tree depths with the “max_depth” argument.\n",
    "\n",
    "We evaluate decision tree depths from 1 to 20."
   ]
  },
  {
   "cell_type": "code",
   "execution_count": 3,
   "metadata": {},
   "outputs": [],
   "source": [
    "# define the tree depths to evaluate\n",
    "values = [i for i in range(1, 21)]"
   ]
  },
  {
   "cell_type": "markdown",
   "metadata": {},
   "source": [
    "We will enumerate each tree depth, fit a tree with a given depth on the training dataset, then evaluate the tree on both the train and test sets.\n",
    "\n",
    "The expectation is that as the depth of the tree increases, performance on train and test will improve to a point, and as the tree gets too deep, it will begin to overfit the training dataset at the expense of worse performance on the holdout test set."
   ]
  },
  {
   "cell_type": "code",
   "execution_count": 6,
   "metadata": {},
   "outputs": [
    {
     "name": "stdout",
     "output_type": "stream",
     "text": [
      ">1, train: 0.762, test: 0.766\n",
      ">2, train: 0.809, test: 0.805\n",
      ">3, train: 0.881, test: 0.875\n",
      ">4, train: 0.900, test: 0.895\n",
      ">5, train: 0.913, test: 0.907\n",
      ">6, train: 0.928, test: 0.914\n",
      ">7, train: 0.936, test: 0.913\n",
      ">8, train: 0.950, test: 0.923\n",
      ">9, train: 0.957, test: 0.924\n",
      ">10, train: 0.964, test: 0.917\n",
      ">11, train: 0.972, test: 0.921\n",
      ">12, train: 0.979, test: 0.918\n",
      ">13, train: 0.986, test: 0.924\n",
      ">14, train: 0.989, test: 0.914\n",
      ">15, train: 0.993, test: 0.919\n",
      ">16, train: 0.995, test: 0.915\n",
      ">17, train: 0.996, test: 0.917\n",
      ">18, train: 0.997, test: 0.920\n",
      ">19, train: 0.998, test: 0.922\n",
      ">20, train: 0.998, test: 0.916\n"
     ]
    }
   ],
   "source": [
    "# evaluate a decision tree for each depth\n",
    "from sklearn.tree import DecisionTreeClassifier\n",
    "from sklearn.metrics import accuracy_score\n",
    "\n",
    "train_scores = []\n",
    "test_scores = []\n",
    "\n",
    "for i in values:\n",
    "    # configure the model\n",
    "    model = DecisionTreeClassifier(max_depth=i)\n",
    "    # fit model on the training dataset\n",
    "    model.fit(X_train, y_train)\n",
    "    # evaluate on the train dataset\n",
    "    train_yhat = model.predict(X_train)\n",
    "    train_acc = accuracy_score(y_train, train_yhat)\n",
    "    train_scores.append(train_acc)\n",
    "    # evaluate on the test dataset\n",
    "    test_yhat = model.predict(X_test)\n",
    "    test_acc = accuracy_score(y_test, test_yhat)\n",
    "    test_scores.append(test_acc)\n",
    "    # summarize progress\n",
    "    print('>%d, train: %.3f, test: %.3f' % (i, train_acc, test_acc))"
   ]
  },
  {
   "cell_type": "markdown",
   "metadata": {},
   "source": [
    "At the end of the run, we will then plot all model accuracy scores on the train and test sets for visual comparison."
   ]
  },
  {
   "cell_type": "code",
   "execution_count": 7,
   "metadata": {},
   "outputs": [
    {
     "data": {
      "image/png": "[encoded data removed]",
      "text/plain": [
       "<Figure size 432x288 with 1 Axes>"
      ]
     },
     "metadata": {
      "needs_background": "light"
     },
     "output_type": "display_data"
    }
   ],
   "source": [
    "import matplotlib.pyplot as plt\n",
    "# plot of train and test scores vs tree depth\n",
    "plt.plot(values, train_scores, '-o', label='Train')\n",
    "plt.plot(values, test_scores, '-o', label='Test')\n",
    "plt.legend()\n",
    "plt.show()"
   ]
  },
  {
   "cell_type": "markdown",
   "metadata": {},
   "source": [
    "This analysis is interesting. It shows why the model has a worse hold-out test set performance when “max_depth” is set to large values"
   ]
  },
  {
   "cell_type": "markdown",
   "metadata": {},
   "source": [
    "However, in the next section, we will show where this analysis can be misleading.\n",
    "\n",
    "Sometimes, we may perform an analysis of machine learning model behavior and be deceived by the results.\n",
    "\n",
    "A good example of this is varying the number of neighbors for the k-nearest neighbors algorithms, which we can implement using the [sklearn.neighbors.KNeighborsClassifier()](https://scikit-learn.org/stable/modules/generated/sklearn.neighbors.KNeighborsClassifier.html) class and configure via the “n_neighbors” argument."
   ]
  },
  {
   "cell_type": "code",
   "execution_count": 8,
   "metadata": {},
   "outputs": [
    {
     "name": "stdout",
     "output_type": "stream",
     "text": [
      ">1, train: 1.000, test: 0.910\n",
      ">2, train: 0.965, test: 0.909\n",
      ">3, train: 0.966, test: 0.921\n",
      ">4, train: 0.960, test: 0.920\n",
      ">5, train: 0.956, test: 0.925\n",
      ">6, train: 0.954, test: 0.927\n",
      ">7, train: 0.952, test: 0.926\n",
      ">8, train: 0.952, test: 0.925\n",
      ">9, train: 0.951, test: 0.925\n",
      ">10, train: 0.951, test: 0.925\n",
      ">11, train: 0.948, test: 0.925\n",
      ">12, train: 0.949, test: 0.922\n",
      ">13, train: 0.947, test: 0.924\n",
      ">14, train: 0.947, test: 0.922\n",
      ">15, train: 0.947, test: 0.922\n",
      ">16, train: 0.946, test: 0.923\n",
      ">17, train: 0.946, test: 0.921\n",
      ">18, train: 0.946, test: 0.923\n",
      ">19, train: 0.946, test: 0.922\n",
      ">20, train: 0.947, test: 0.921\n",
      ">21, train: 0.946, test: 0.921\n",
      ">22, train: 0.946, test: 0.922\n",
      ">23, train: 0.945, test: 0.920\n",
      ">24, train: 0.945, test: 0.921\n",
      ">25, train: 0.944, test: 0.920\n",
      ">26, train: 0.944, test: 0.921\n",
      ">27, train: 0.943, test: 0.921\n",
      ">28, train: 0.943, test: 0.920\n",
      ">29, train: 0.942, test: 0.920\n",
      ">30, train: 0.942, test: 0.920\n",
      ">31, train: 0.940, test: 0.920\n",
      ">32, train: 0.943, test: 0.921\n",
      ">33, train: 0.941, test: 0.921\n",
      ">34, train: 0.942, test: 0.920\n",
      ">35, train: 0.940, test: 0.921\n",
      ">36, train: 0.940, test: 0.921\n",
      ">37, train: 0.940, test: 0.922\n",
      ">38, train: 0.940, test: 0.921\n",
      ">39, train: 0.940, test: 0.920\n",
      ">40, train: 0.940, test: 0.920\n",
      ">41, train: 0.940, test: 0.920\n",
      ">42, train: 0.940, test: 0.920\n",
      ">43, train: 0.939, test: 0.921\n",
      ">44, train: 0.939, test: 0.920\n",
      ">45, train: 0.939, test: 0.921\n",
      ">46, train: 0.939, test: 0.920\n",
      ">47, train: 0.938, test: 0.921\n",
      ">48, train: 0.938, test: 0.921\n",
      ">49, train: 0.938, test: 0.921\n",
      ">50, train: 0.938, test: 0.920\n"
     ]
    },
    {
     "data": {
      "image/png": "[encoded data removed]",
      "text/plain": [
       "<Figure size 432x288 with 1 Axes>"
      ]
     },
     "metadata": {
      "needs_background": "light"
     },
     "output_type": "display_data"
    }
   ],
   "source": [
    "from sklearn.datasets import make_classification\n",
    "from sklearn.model_selection import train_test_split\n",
    "from sklearn.metrics import accuracy_score\n",
    "from sklearn.neighbors import KNeighborsClassifier\n",
    "from matplotlib import pyplot\n",
    "# create dataset\n",
    "X, y = make_classification(n_samples=10000, n_features=20, n_informative=5, n_redundant=15, random_state=1)\n",
    "# split into train test sets\n",
    "X_train, X_test, y_train, y_test = train_test_split(X, y, test_size=0.3)\n",
    "# define lists to collect scores\n",
    "train_scores, test_scores = list(), list()\n",
    "# define the tree depths to evaluate\n",
    "values = [i for i in range(1, 51)]\n",
    "# evaluate a decision tree for each depth\n",
    "for i in values:\n",
    "    # configure the model\n",
    "    model = KNeighborsClassifier(n_neighbors=i)\n",
    "    # fit model on the training dataset\n",
    "    model.fit(X_train, y_train)\n",
    "    # evaluate on the train dataset\n",
    "    train_yhat = model.predict(X_train)\n",
    "    train_acc = accuracy_score(y_train, train_yhat)\n",
    "    train_scores.append(train_acc)\n",
    "    # evaluate on the test dataset\n",
    "    test_yhat = model.predict(X_test)\n",
    "    test_acc = accuracy_score(y_test, test_yhat)\n",
    "    test_scores.append(test_acc)\n",
    "    # summarize progress\n",
    "    print('>%d, train: %.3f, test: %.3f' % (i, train_acc, test_acc))\n",
    "# plot of train and test scores vs number of neighbors\n",
    "pyplot.plot(values, train_scores, '-o', label='Train')\n",
    "pyplot.plot(values, test_scores, '-o', label='Test')\n",
    "pyplot.legend()\n",
    "pyplot.show()"
   ]
  },
  {
   "cell_type": "markdown",
   "metadata": {},
   "source": [
    "Recall, we are looking for a pattern where performance on the test set improves and then starts to get worse, and performance on the training set continues to improve.\n",
    "\n",
    "We do not see this pattern.\n",
    "\n",
    "Instead, we see that accuracy on the training dataset starts at perfect accuracy and falls with almost every increase in the number of neighbors.\n",
    "\n",
    "We also see that performance of the model on the holdout test improves to a value of about five neighbors, holds level and begins a downward trend after that.\n",
    "\n",
    "The plots make the situation clearer. It looks as though the line plot for the training set is dropping to converge with the line for the test set. Indeed, this is exactly what is happening."
   ]
  },
  {
   "cell_type": "markdown",
   "metadata": {},
   "source": [
    "### Separate Overfitting Analysis From Model Selection\n",
    "\n",
    "Overfitting should not be confused with model selection.\n",
    "\n",
    "We choose a predictive model or model configuration based on its out-of-sample performance. That is, its performance on new data not seen during training.\n",
    "\n",
    "The reason we do this is that in predictive modeling, we are primarily interested in a model that makes skillful predictions. We want the model that can make the best possible predictions given the time and computational resources we have available.\n",
    "\n",
    "This might mean we choose a model that looks like it has overfit the training dataset. In which case, an overfit analysis might be misleading.\n",
    "\n",
    "It might also mean that the model has poor or terrible performance on the training dataset.\n",
    "\n",
    "In general, if we cared about model performance on the training dataset in model selection, then we would expect a model to have perfect performance on the training dataset. It’s data we have available; we should not tolerate anything less."
   ]
  },
  {
   "cell_type": "code",
   "execution_count": null,
   "metadata": {},
   "outputs": [],
   "source": []
  }
 ],
 "metadata": {
  "kernelspec": {
   "display_name": "Python 3",
   "language": "python",
   "name": "python3"
  },
  "language_info": {
   "codemirror_mode": {
    "name": "ipython",
    "version": 3
   },
   "file_extension": ".py",
   "mimetype": "text/x-python",
   "name": "python",
   "nbconvert_exporter": "python",
   "pygments_lexer": "ipython3",
   "version": "3.8.5"
  }
 },
 "nbformat": 4,
 "nbformat_minor": 4
}
