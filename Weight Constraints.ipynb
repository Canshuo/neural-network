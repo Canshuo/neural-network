{
 "cells": [
  {
   "cell_type": "markdown",
   "metadata": {},
   "source": [
    "Weight regularization methods like weight decay introduce a penalty to the loss function when training a neural network to encourage the network to use small weights.\n",
    "\n",
    "Smaller weights in a neural network can result in a model that is more stable and less likely to overfit the training dataset, in turn having better performance when making a prediction on new data.\n",
    "\n",
    "Unlike weight regularization, a weight constraint is a trigger that checks the size or magnitude of the weights and scales them so that they are all below a pre-defined threshold. The constraint forces weights to be small and can be used instead of weight decay and in conjunction with more aggressive network configurations, such as very large learning rates.\n",
    "\n",
    "The use of __weight constraint regularization__ is an alternative to __weight penalties__ to reduce overfitting in deep neural networks.\n",
    "\n",
    "- Weight penalties encourage but do not require neural networks to have small weights.\n",
    "- Weight constraints, such as the L2 norm and maximum norm, can be used to force neural networks to have small weights during training.\n",
    "- Weight constraints can improve generalization when used in conjunction with other regularization methods like dropout."
   ]
  },
  {
   "cell_type": "markdown",
   "metadata": {},
   "source": [
    "#### Alternative to Penalties for Large Weights\n",
    "\n",
    "Large weights in a neural network are a sign of overfitting.\n",
    "\n",
    "A network with large weights has very likely learned the statistical noise in the training data. This results in a model that is unstable, and very sensitive to changes to the input variables. In turn, the overfit network has poor performance when making predictions on new unseen data.\n",
    "\n",
    "A popular and effective technique to address the problem is to update the loss function that is optimized during training to take the size of the weights into account.\n",
    "\n",
    "This is called a __penalty__, as the larger the weights of the network become, the more the network is penalized, resulting in __larger loss__ and, in turn, larger updates. The effect is that the penalty encourages weights to be small, or no larger than is required during the training process, in turn reducing overfitting.\n",
    "\n",
    "A problem in using a penalty is that although it does encourage the network toward smaller weights, it does not force smaller weights. A neural network trained with weight regularization penalty may still allow large weights, in some cases very large weights."
   ]
  },
  {
   "cell_type": "markdown",
   "metadata": {},
   "source": [
    "#### Force Small Weights\n",
    "\n",
    "An alternate solution to using a penalty for the size of network weights is to use a weight constraint.\n",
    "\n",
    "A weight constraint is an update to the network that checks the size of the weights, and if the size exceeds a predefined limit, the weights are rescaled so that their size is below the limit or between a range.\n",
    "\n",
    "You can think of a weight constraint as an if-then rule checking the size of the weights while the network is being trained and only coming into effect and making weights small when required. \n",
    "\n",
    "Weight constraints prove especially useful when you have configured your network to use alternative regularization methods to weight regularization and yet still desire the network to have small weights in order to reduce overfitting. One often-cited example is the use of a weight constraint regularization with dropout regularization."
   ]
  },
  {
   "cell_type": "markdown",
   "metadata": {},
   "source": [
    "### How to Use a Weight Constraint\n",
    "A constraint is enforced on each node within a layer.\n",
    "\n",
    "All nodes within the layer use the same constraint, and often multiple hidden layers within the same network will use the same constraint.\n",
    "\n",
    "Recall that when we talk about the vector norm in general, that this is the magnitude of the vector of weights in a node, and by default is calculated as the L2 norm, e.g. the square root of the sum of the squared values in the vector.\n",
    "\n",
    "Some examples of constraints that could be used include:\n",
    "- Force the vector norm to be 1.0 (e.g. the unit norm).\n",
    "- Limit the maximum size of the vector norm (e.g. the maximum norm).\n",
    "- Limit the minimum and maximum size of the vector norm (e.g. the min_max norm).\n",
    "\n",
    "The maximum norm, also called max-norm or maxnorm, is a popular constraint because it is less aggressive than other norms such as the unit norm, simply setting an upper bound.\n",
    "\n",
    "When using a limit or a range, a hyperparameter must be specified. Given that weights are small, the hyperparameter too is often a small integer value, such as a value between 1 and 4.\n",
    "\n",
    "If the norm exceeds the specified range or limit, the weights are rescaled or normalized such that their magnitude is below the specified parameter or within the specified range."
   ]
  },
  {
   "cell_type": "markdown",
   "metadata": {},
   "source": [
    "#### Tips for Using Weight Constraints\n",
    "##### Use With All Network Types\n",
    "\n",
    "Weight constraints are a generic approach.\n",
    "\n",
    "They can be used with most, perhaps all, types of neural network models, not least the most common network types of Multilayer Perceptrons, Convolutional Neural Networks, and Long Short-Term Memory Recurrent Neural Networks.\n",
    "\n",
    "In the case of LSTMs, it may be desirable to use different constraints or constraint configurations for the input and recurrent connections.\n",
    "\n",
    "##### Standardize Input Data\n",
    "\n",
    "It is a good general practice to rescale input variables to have the same scale.\n",
    "\n",
    "When input variables have different scales, the scale of the weights of the network will, in turn, vary accordingly. This introduces a problem when using weight constraints because large weights will cause the constraint to trigger more frequently.\n",
    "\n",
    "This problem can be done by either normalization or standardization of input variables.\n",
    "\n",
    "##### Use a Larger Learning Rate\n",
    "\n",
    "The use of a weight constraint allows you to be more aggressive during the training of the network.\n",
    "\n",
    "Specifically, a larger learning rate can be used, allowing the network to, in turn, make larger updates to the weights each update.\n",
    "\n",
    "This is cited as an important benefit to using weight constraints. Such as the use of a constraint in conjunction with dropout\n",
    "\n",
    "#### Try Other Constraints\n",
    "\n",
    "Explore the use of other weight constraints, such as a minimum and maximum range, non-negative weights, and more.\n",
    "\n",
    "You may also choose to use constraints on some weights and not others, such as not using constraints on bias weights in an MLP or not using constraints on recurrent connections in an LSTM."
   ]
  },
  {
   "cell_type": "markdown",
   "metadata": {},
   "source": [
    "### How to Reduce Overfitting Using Weight Constraints in Keras\n",
    "Using a constraint generally involves setting the kernel_constraint argument on the layer for the input weights and the bias_constraint for the bias weights.\n",
    "\n",
    "Generally, weight constraints are not used on the bias weights.\n",
    "\n",
    "A suite of different vector norms can be used as constraints, provided as classes in the keras.constraints module. They are:\n",
    "- Maximum norm (max_norm), to force weights to have a magnitude at or below a given limit.\n",
    "- Non-negative norm (non_neg), to force weights to have a positive magnitude.\n",
    "- Unit norm (unit_norm), to force weights to have a magnitude of 1.0.\n",
    "- Min-Max norm (min_max_norm), to force weights to have a magnitude between a range."
   ]
  },
  {
   "cell_type": "code",
   "execution_count": 1,
   "metadata": {},
   "outputs": [],
   "source": [
    "# For example, a constraint can imported and instantiated:\n",
    "# import norm\n",
    "from keras.constraints import max_norm\n",
    "# instantiate norm\n",
    "norm = max_norm(3.0)"
   ]
  },
  {
   "cell_type": "markdown",
   "metadata": {},
   "source": [
    "#### Weight Constraints on Layers\n",
    "\n",
    "The weight norms can be used with most layers in Keras."
   ]
  },
  {
   "cell_type": "code",
   "execution_count": null,
   "metadata": {},
   "outputs": [],
   "source": [
    "# MLP Weight Constraint\n",
    "## The example below sets a maximum norm weight constraint on a Dense fully connected layer.\n",
    "from keras.layers import Dense\n",
    "from keras.constraints import max_norm\n",
    "\n",
    "model.add(Dense(32, kernel_constraint=max_norm(3), bias_constraint=max_norm(3)))"
   ]
  },
  {
   "cell_type": "code",
   "execution_count": null,
   "metadata": {},
   "outputs": [],
   "source": [
    "# CNN Weight Constraint\n",
    "## The example below sets a maximum norm weight constraint on a convolutional layer\n",
    "from keras.layers import Conv2D\n",
    "from keras.constraints import max_norm\n",
    "\n",
    "model.add(Conv2D(32, (3,3), kernel_constraint=max_norm(3), bias_constraint=max_norm(3)))"
   ]
  },
  {
   "cell_type": "markdown",
   "metadata": {},
   "source": [
    "##### RNN Weight Constraint\n",
    "\n",
    "Unlike other layer types, recurrent neural networks allow you to set a weight constraint on both the input weights and bias, as well as the recurrent input weights.\n",
    "\n",
    "The constraint for the recurrent weights is set via the recurrent_constraint argument to the layer."
   ]
  },
  {
   "cell_type": "code",
   "execution_count": null,
   "metadata": {},
   "outputs": [],
   "source": [
    "# The example below sets a maximum norm weight constraint on an LSTM layer.\n",
    "from keras.layers import LSTM\n",
    "from keras.constraints import max_norm\n",
    "\n",
    "model.add(LSTM(32, kernel_constraint=max_norm(3), recurrent_constraint=max_norm(3), bias_constraint=max_norm(3)))"
   ]
  },
  {
   "cell_type": "markdown",
   "metadata": {},
   "source": [
    "### Weight Constraint Case Study\n",
    "#### use weight constraints to reduce overfitting of an MLP on a simple binary classification problem\n",
    "data: two semi-circles of observations, one semi-circle for each class.\n",
    "\n",
    "Each observation has two input variables with the same scale and a class output value of either 0 or 1."
   ]
  },
  {
   "cell_type": "code",
   "execution_count": 5,
   "metadata": {},
   "outputs": [
    {
     "data": {
      "image/png": "[encoded data removed]",
      "text/plain": [
       "<Figure size 432x288 with 1 Axes>"
      ]
     },
     "metadata": {
      "needs_background": "light"
     },
     "output_type": "display_data"
    }
   ],
   "source": [
    "# generate two moons dataset\n",
    "from sklearn.datasets import make_moons\n",
    "X,y = make_moons(n_samples=100, noise=0.2, random_state=1)\n",
    "\n",
    "# scatter plot, dots colored by class value\n",
    "import pandas as pd\n",
    "import matplotlib.pyplot as plt\n",
    "df = pd.DataFrame(dict(x=X[:,0], y=X[:,1], label=y))\n",
    "colors = {0:'red', 1:'blue'}\n",
    "fig, ax = plt.subplots()\n",
    "grouped = df.groupby('label')\n",
    "for key, group in grouped:\n",
    "    group.plot(ax=ax, kind='scatter', x='x', y='y', label=key, color=colors[key])\n",
    "plt.show()"
   ]
  },
  {
   "cell_type": "markdown",
   "metadata": {},
   "source": [
    "This is a good test problem because the classes cannot be separated by a line, e.g. are not linearly separable, requiring a nonlinear method such as a neural network to address.\n",
    "\n",
    "We have only generated 100 samples, which is small for a neural network, providing the opportunity to overfit the training dataset and have higher error on the test dataset: a good case for using regularization. Further, the samples have noise, giving the model an opportunity to learn aspects of the samples that don’t generalize."
   ]
  },
  {
   "cell_type": "code",
   "execution_count": 10,
   "metadata": {},
   "outputs": [],
   "source": [
    "#split the dataset into train set and test set,using 30 examples to train the model\n",
    "from sklearn.model_selection import train_test_split\n",
    "trainX,testX,trainy,testy = train_test_split(X,y,test_size=0.7)"
   ]
  },
  {
   "cell_type": "markdown",
   "metadata": {},
   "source": [
    "#### Define a Multilayer Perceptron model\n",
    "The model will have one hidden layer with more nodes than may be required to solve this problem, providing an opportunity to overfit.\n",
    "\n",
    "The hidden layer uses 500 nodes in the hidden layer and the rectified linear activation function. A sigmoid activation function is used in the output layer in order to predict class values of 0 or 1.\n",
    "\n",
    "The model is optimized using the binary cross entropy loss function, suitable for binary classification problems and the efficient Adam version of gradient descent."
   ]
  },
  {
   "cell_type": "code",
   "execution_count": 11,
   "metadata": {},
   "outputs": [],
   "source": [
    "# define model\n",
    "from keras.layers import Dense\n",
    "from keras.models import Sequential\n",
    "def baseline_model(): \n",
    "    model = Sequential()\n",
    "    model.add(Dense(500, input_dim=2, activation='relu'))\n",
    "    model.add(Dense(1, activation='sigmoid'))\n",
    "    model.compile(loss='binary_crossentropy', optimizer='adam', metrics=['accuracy'])\n",
    "    \n",
    "    return model"
   ]
  },
  {
   "cell_type": "code",
   "execution_count": 12,
   "metadata": {},
   "outputs": [],
   "source": [
    "# The defined model is then fit on the training data for 4,000 epochs and the default batch size of 32.\n",
    "# fit model\n",
    "history = baseline_model().fit(trainX, trainy, validation_data=(testX, testy), epochs=4000, verbose=0)"
   ]
  },
  {
   "cell_type": "code",
   "execution_count": 14,
   "metadata": {},
   "outputs": [
    {
     "name": "stdout",
     "output_type": "stream",
     "text": [
      "Train: 0.333, Test: 0.486\n"
     ]
    },
    {
     "data": {
      "image/png": "[encoded data removed]",
      "text/plain": [
       "<Figure size 432x288 with 1 Axes>"
      ]
     },
     "metadata": {
      "needs_background": "light"
     },
     "output_type": "display_data"
    }
   ],
   "source": [
    "# evaluate the model\n",
    "_, train_acc = baseline_model().evaluate(trainX, trainy, verbose=0)\n",
    "_, test_acc = baseline_model().evaluate(testX, testy, verbose=0)\n",
    "print('Train: %.3f, Test: %.3f' % (train_acc, test_acc))\n",
    "# plot history\n",
    "plt.plot(history.history['accuracy'], label='train')\n",
    "plt.plot(history.history['val_accuracy'], label='test')\n",
    "plt.legend()\n",
    "plt.show()"
   ]
  },
  {
   "cell_type": "markdown",
   "metadata": {},
   "source": [
    "We can see that the model has better performance on the training dataset than the test dataset, one possible sign of overfitting."
   ]
  },
  {
   "cell_type": "markdown",
   "metadata": {},
   "source": [
    "#### Overfit MLP With Weight Constraint\n",
    "A good simple constraint for this model is to simply normalize the weights so that the norm is equal to 1.0.\n",
    "\n",
    "This constraint has the effect of forcing all incoming weights to be small.\n",
    "\n",
    "We can do this by using the _unit_norm_ in Keras. This constraint can be added to the first hidden layer as follows:"
   ]
  },
  {
   "cell_type": "code",
   "execution_count": null,
   "metadata": {},
   "outputs": [],
   "source": [
    "model.add(Dense(500, input_dim=2, activation='relu', kernel_constraint=unit_norm()))"
   ]
  },
  {
   "cell_type": "markdown",
   "metadata": {},
   "source": [
    "We can also achieve the same result by using the min_max_norm and setting the min and maximum to 1.0, for example:"
   ]
  },
  {
   "cell_type": "code",
   "execution_count": null,
   "metadata": {},
   "outputs": [],
   "source": [
    "model.add(Dense(500, input_dim=2, activation='relu', kernel_constraint=min_max_norm(min_value=1.0, max_value=1.0)))"
   ]
  },
  {
   "cell_type": "markdown",
   "metadata": {},
   "source": [
    "We cannot achieve the same result with the maximum norm constraint as it will allow norms at or below the specified limit; for example:"
   ]
  },
  {
   "cell_type": "code",
   "execution_count": null,
   "metadata": {},
   "outputs": [],
   "source": [
    "model.add(Dense(500, input_dim=2, activation='relu', kernel_constraint=max_norm(1.0)))"
   ]
  },
  {
   "cell_type": "code",
   "execution_count": 16,
   "metadata": {},
   "outputs": [
    {
     "name": "stdout",
     "output_type": "stream",
     "text": [
      "Train: 0.500, Test: 0.200\n"
     ]
    },
    {
     "data": {
      "image/png": "[encoded data removed]",
      "text/plain": [
       "<Figure size 432x288 with 1 Axes>"
      ]
     },
     "metadata": {
      "needs_background": "light"
     },
     "output_type": "display_data"
    }
   ],
   "source": [
    "# define a Multilayer Perceptron model with Weight Constraint\n",
    "from keras.constraints import unit_norm\n",
    "\n",
    "def weight_constraint_model():\n",
    "    model = Sequential()\n",
    "    model.add(Dense(500, input_dim=2, activation='relu', kernel_constraint=unit_norm()))\n",
    "    model.add(Dense(1, activation='sigmoid'))\n",
    "    model.compile(loss='binary_crossentropy', optimizer='adam', metrics=['accuracy'])\n",
    "    \n",
    "    return model\n",
    "# fit model\n",
    "history = weight_constraint_model().fit(trainX, trainy, validation_data=(testX, testy), epochs=4000, verbose=0)\n",
    "# evaluate the model\n",
    "_, train_acc = weight_constraint_model().evaluate(trainX, trainy, verbose=0)\n",
    "_, test_acc = weight_constraint_model().evaluate(testX, testy, verbose=0)\n",
    "print('Train: %.3f, Test: %.3f' % (train_acc, test_acc))\n",
    "# plot history\n",
    "plt.plot(history.history['accuracy'], label='train')\n",
    "plt.plot(history.history['val_accuracy'], label='test')\n",
    "plt.legend()\n",
    "plt.show()"
   ]
  },
  {
   "cell_type": "markdown",
   "metadata": {},
   "source": [
    "We can see that indeed the strict constraint on the size of the weights has improved the performance of the model on the holdout set without impacting performance on the training set.\n",
    "\n",
    "Reviewing the line plot of train and test accuracy, we can see that it no longer appears that the model has overfit the training dataset.\n",
    "\n",
    "Model accuracy on both the train and test sets continues to increase to a plateau."
   ]
  },
  {
   "cell_type": "code",
   "execution_count": null,
   "metadata": {},
   "outputs": [],
   "source": []
  }
 ],
 "metadata": {
  "kernelspec": {
   "display_name": "Python 3",
   "language": "python",
   "name": "python3"
  },
  "language_info": {
   "codemirror_mode": {
    "name": "ipython",
    "version": 3
   },
   "file_extension": ".py",
   "mimetype": "text/x-python",
   "name": "python",
   "nbconvert_exporter": "python",
   "pygments_lexer": "ipython3",
   "version": "3.8.5"
  }
 },
 "nbformat": 4,
 "nbformat_minor": 4
}
