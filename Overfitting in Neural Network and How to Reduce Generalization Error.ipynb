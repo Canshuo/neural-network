{
 "cells": [
  {
   "cell_type": "markdown",
   "metadata": {},
   "source": [
    "A modern approach to reducing generalization error is to use a larger model that may be required to use regularization during training that keeps the weights of the model small. These techniques not only reduce overfitting, but they can also lead to faster optimization of the model and better overall performance.\n",
    "\n",
    "This notebook will explore the problem of overfitting when training neural networks and how it can be addressed with regularization methods.\n",
    "\n",
    "After reading, you will know:\n",
    "\n",
    "- Underfitting can easily be addressed by increasing the capacity of the network, but overfitting requires the use of specialized techniques.\n",
    "- Regularization methods like weight decay provide an easy way to control overfitting for large neural network models.\n",
    "- A modern recommendation for regularization is to use early stopping with dropout and a weight constraint."
   ]
  },
  {
   "cell_type": "markdown",
   "metadata": {},
   "source": [
    "A model fit can be considered in the context of the bias-variance trade-off.\n",
    "\n",
    "- An underfit model has high bias and low variance. Regardless of the specific samples in the training data, it cannot learn the problem. \n",
    "- An overfit model has low bias and high variance. The model learns the training data too well and performance varies widely with new unseen examples or even statistical noise added to examples in the training dataset."
   ]
  },
  {
   "cell_type": "markdown",
   "metadata": {},
   "source": [
    "#### addressing underfitting\n",
    "- by increasing the capacity of the model. \n",
    "    - Capacity refers to the ability of a model to fit a variety of functions; more capacity, means that a model can fit more types of functions for mapping inputs to outputs. Increasing the capacity of a model is easily achieved by changing the structure of the model, such as adding more layers and/or more nodes to layers."
   ]
  },
  {
   "cell_type": "markdown",
   "metadata": {},
   "source": [
    "#### Diagnose overfitting\n",
    "- diagnosed by monitoring the performance of the model during training by evaluating it on both a training dataset and on a holdout validation dataset. Graphing line plots of the performance of the model during training, called learning curves, will show a familiar pattern."
   ]
  },
  {
   "attachments": {},
   "cell_type": "markdown",
   "metadata": {},
   "source": [
    "#### Address overfitting\n",
    "There are two ways to approach an overfit model:\n",
    "1. Reduce overfitting by training the network on more examples.\n",
    "2. Reduce overfitting by changing the complexity of the network.\n",
    "\n",
    "A model can overfit a training dataset because it has sufficient capacity to do so. Reducing the capacity of the model reduces the likelihood of the model overfitting the training dataset, to a point where it no longer overfits.\n",
    "The capacity of a neural network model, it’s complexity, is defined by both it’s structure in terms of nodes and layers and the parameters in terms of its weights. Therefore, we can reduce the complexity of a neural network to reduce overfitting in one of two ways:\n",
    "1. Change network complexity by changing the network structure (number of weights).\n",
    "2. Change network complexity by changing the network parameters (values of weights).\n",
    "\n",
    "- For network structure, it can be tuned such as via grid search until a suitable number of nodes and/or layers is found to reduce or remove overfitting for the problem. Alternately, the model could be overfit and pruned by removing nodes until it achieves suitable performance on a validation dataset.\n",
    "- For network parameters, constrain the complexity of the model by ensuring the parameters (weights) of the model remain small. Small parameters suggest a less complex and, in turn, more stable model that is less sensitive to statistical fluctuations in the input data."
   ]
  },
  {
   "attachments": {},
   "cell_type": "markdown",
   "metadata": {},
   "source": [
    "### Regularization\n",
    "Techniques that seek to reduce overfitting (reduce generalization error) by keeping network weights small are referred to as regularization methods. More specifically, regularization refers to a class of approaches that add additional information to transform an ill-posed problem into a more stable well-posed problem.\n",
    "\n",
    ">A problem is said to be ill-posed if small changes in the given information cause large changes in the solution. This instability with respect to the data makes solutions unreliable because small measurement errors or uncertainties in parameters may be greatly magnified and lead to wildly different responses.The idea behind regularization is to use supplementary information to restate an ill-posed problem in a stable form.— Page 266, Neural Smithing: Supervised Learning in Feedforward Artificial Neural Networks, 1999."
   ]
  },
  {
   "cell_type": "markdown",
   "metadata": {},
   "source": [
    "Below is a list of five of the most common additional regularization methods.\n",
    "1. Activity Regularization: Penalize the model during training base on the magnitude of the activations.\n",
    "2. Weight Constraint: Constrain the magnitude of weights to be within a range or below a limit.\n",
    "3. Dropout: Probabilistically remove inputs during training.\n",
    "4. Noise: Add statistical noise to inputs during training.\n",
    "5. Early Stopping: Monitor model performance on a validation set and stop training when performance degrades."
   ]
  },
  {
   "cell_type": "markdown",
   "metadata": {},
   "source": [
    "#### 1. Activity Regularization in Keras\n",
    "\n",
    "There are three different regularization techniques supported, each provided as a class in the keras.regularizers module:\n",
    "- l1: Activity is calculated as the sum of absolute values.\n",
    "- l2: Activity is calculated as the sum of the squared values.\n",
    "- l1_l2: Activity is calculated as the sum of absolute and sum of the squared values.\n",
    "\n",
    "Each of the l1 and l2 regularizers takes a single hyperparameter that controls the amount that each activity contributes to the sum. The l1_l2 regularizer takes two hyperparameters, one for each of the l1 and l2 methods."
   ]
  },
  {
   "cell_type": "code",
   "execution_count": null,
   "metadata": {},
   "outputs": [],
   "source": [
    "# The regularizer class must be imported and then instantiated; for example:\n",
    "# import regularizer\n",
    "from keras.regularizers import l1\n",
    "# instantiate regularizer\n",
    "reg = l1(0.001)"
   ]
  },
  {
   "cell_type": "markdown",
   "metadata": {},
   "source": [
    "#### Activity Regularization on Layers\n",
    "\n",
    "Activity regularization is specified on a layer in Keras.\n",
    "\n",
    "This can be achieved by setting the activity_regularizer argument on the layer to an instantiated and configured regularizer class.\n",
    "\n",
    "The regularizer is applied to the output of the layer, but you have control over what the “output” of the layer actually means. Specifically, you have flexibility as to whether the layer output means that the regularization is applied before or after the ‘activation‘ function.\n",
    "\n",
    "For example, you can specify the function and the regularization on the layer, in which case activation regularization is applied to the output of the activation function, in this case, rectified linear activation function or ReLU."
   ]
  },
  {
   "cell_type": "code",
   "execution_count": null,
   "metadata": {},
   "outputs": [],
   "source": [
    "model.add(Dense(32, activation='relu', activity_regularizer=l1(0.001)))"
   ]
  },
  {
   "cell_type": "markdown",
   "metadata": {},
   "source": [
    "Alternately, you can specify a linear activation function (the default, that does not perform any transform) which means that the activation regularization is applied on the raw outputs, then, the activation function can be added as a subsequent layer."
   ]
  },
  {
   "cell_type": "code",
   "execution_count": null,
   "metadata": {},
   "outputs": [],
   "source": [
    "model.add(Dense(32, activation='linear', activity_regularizer=l1(0.001)))\n",
    "model.add(Activation('relu'))"
   ]
  },
  {
   "cell_type": "markdown",
   "metadata": {},
   "source": [
    "The latter is probably the preferred usage of activation regularization in order to allow the model to learn to take activations to a true zero value in conjunction with the rectified linear activation function. "
   ]
  },
  {
   "cell_type": "code",
   "execution_count": null,
   "metadata": {},
   "outputs": [],
   "source": [
    "# MLP Activity Regularization\n",
    "#The example below sets l1 norm activity regularization on a Dense fully connected layer.\n",
    "\n",
    "# example of l1 norm on activity from a dense layer\n",
    "from keras.layers import Dense\n",
    "from keras.regularizers import l1\n",
    "model.add(Dense(32, activity_regularizer=l1(0.001)))"
   ]
  },
  {
   "cell_type": "code",
   "execution_count": null,
   "metadata": {},
   "outputs": [],
   "source": [
    "# CNN Activity Regularization\n",
    "# The example below sets l1 norm activity regularization on a Conv2D convolutional layer.\n",
    "\n",
    "# example of l1 norm on activity from a cnn layer\n",
    "from keras.layers import Conv2D\n",
    "from keras.regularizers import l1\n",
    "model.add(Conv2D(32, (3,3), activity_regularizer=l1(0.001)))"
   ]
  },
  {
   "cell_type": "code",
   "execution_count": null,
   "metadata": {},
   "outputs": [],
   "source": [
    "# RNN Activity Regularization\n",
    "# The example below sets l1 norm activity regularization on an LSTM recurrent layer.\n",
    "\n",
    "# example of l1 norm on activity from an lstm layer\n",
    "from keras.layers import LSTM\n",
    "from keras.regularizers import l1\n",
    "model.add(LSTM(32, activity_regularizer=l1(0.001)))"
   ]
  },
  {
   "cell_type": "markdown",
   "metadata": {},
   "source": [
    "### Activity Regularization Case Study Using Multilayer Perceptron\n",
    "#### Binary Classification Problem\n",
    "\n",
    "We will use a standard binary classification problem that defines two two-dimensional concentric circles of observations, one circle for each class.\n",
    "\n",
    "Each observation has two input variables with the same scale and a class output value of either 0 or 1. This dataset is called the “circles” dataset because of the shape of the observations in each class when plotted.\n",
    "\n",
    "We can use the [sklearn.datasets.make_circle()](https://scikit-learn.org/stable/modules/generated/sklearn.datasets.make_circles.html) function to generate observations from this problem. We will add noise to the data and seed the random number generator so that the same samples are generated each time the code is run."
   ]
  },
  {
   "cell_type": "code",
   "execution_count": 1,
   "metadata": {},
   "outputs": [],
   "source": [
    "# generate two circles dataset\n",
    "from sklearn.datasets import make_circles\n",
    "from matplotlib import pyplot as plt\n",
    "import pandas as pd\n",
    "# generate 2d classification dataset\n",
    "X, y = make_circles(n_samples=100, noise=0.1, random_state=1)"
   ]
  },
  {
   "cell_type": "markdown",
   "metadata": {},
   "source": [
    "We can plot the dataset where the two variables are taken as x and y coordinates on a graph and the class value is taken as the color of the observation."
   ]
  },
  {
   "cell_type": "code",
   "execution_count": 3,
   "metadata": {
    "scrolled": true
   },
   "outputs": [
    {
     "data": {
      "text/plain": [
       "array([[-0.63640493, -0.36870191],\n",
       "       [-0.24465976, -0.73659196],\n",
       "       [-0.46597138, -1.06687743],\n",
       "       [-0.70999784, -0.40841948],\n",
       "       [ 0.70232238, -0.51730147]])"
      ]
     },
     "execution_count": 3,
     "metadata": {},
     "output_type": "execute_result"
    }
   ],
   "source": [
    "X[:5]"
   ]
  },
  {
   "cell_type": "code",
   "execution_count": 4,
   "metadata": {},
   "outputs": [
    {
     "data": {
      "text/plain": [
       "array([1, 1, 0, 1, 1])"
      ]
     },
     "execution_count": 4,
     "metadata": {},
     "output_type": "execute_result"
    }
   ],
   "source": [
    "y[:5]"
   ]
  },
  {
   "cell_type": "code",
   "execution_count": 5,
   "metadata": {},
   "outputs": [
    {
     "data": {
      "text/html": [
       "<div>\n",
       "<style scoped>\n",
       "    .dataframe tbody tr th:only-of-type {\n",
       "        vertical-align: middle;\n",
       "    }\n",
       "\n",
       "    .dataframe tbody tr th {\n",
       "        vertical-align: top;\n",
       "    }\n",
       "\n",
       "    .dataframe thead th {\n",
       "        text-align: right;\n",
       "    }\n",
       "</style>\n",
       "<table border=\"1\" class=\"dataframe\">\n",
       "  <thead>\n",
       "    <tr style=\"text-align: right;\">\n",
       "      <th></th>\n",
       "      <th>x</th>\n",
       "      <th>y</th>\n",
       "      <th>label</th>\n",
       "    </tr>\n",
       "  </thead>\n",
       "  <tbody>\n",
       "    <tr>\n",
       "      <th>0</th>\n",
       "      <td>-0.636405</td>\n",
       "      <td>-0.368702</td>\n",
       "      <td>1</td>\n",
       "    </tr>\n",
       "    <tr>\n",
       "      <th>1</th>\n",
       "      <td>-0.244660</td>\n",
       "      <td>-0.736592</td>\n",
       "      <td>1</td>\n",
       "    </tr>\n",
       "    <tr>\n",
       "      <th>2</th>\n",
       "      <td>-0.465971</td>\n",
       "      <td>-1.066877</td>\n",
       "      <td>0</td>\n",
       "    </tr>\n",
       "    <tr>\n",
       "      <th>3</th>\n",
       "      <td>-0.709998</td>\n",
       "      <td>-0.408419</td>\n",
       "      <td>1</td>\n",
       "    </tr>\n",
       "    <tr>\n",
       "      <th>4</th>\n",
       "      <td>0.702322</td>\n",
       "      <td>-0.517301</td>\n",
       "      <td>1</td>\n",
       "    </tr>\n",
       "  </tbody>\n",
       "</table>\n",
       "</div>"
      ],
      "text/plain": [
       "          x         y  label\n",
       "0 -0.636405 -0.368702      1\n",
       "1 -0.244660 -0.736592      1\n",
       "2 -0.465971 -1.066877      0\n",
       "3 -0.709998 -0.408419      1\n",
       "4  0.702322 -0.517301      1"
      ]
     },
     "execution_count": 5,
     "metadata": {},
     "output_type": "execute_result"
    }
   ],
   "source": [
    "# scatter plot, dots colored by class value\n",
    "df = pd.DataFrame(dict(x=X[:,0], y=X[:,1], label=y))\n",
    "df.head()"
   ]
  },
  {
   "cell_type": "code",
   "execution_count": 6,
   "metadata": {},
   "outputs": [
    {
     "data": {
      "image/png": "[encoded data removed]",
      "text/plain": [
       "<Figure size 432x288 with 1 Axes>"
      ]
     },
     "metadata": {
      "needs_background": "light"
     },
     "output_type": "display_data"
    }
   ],
   "source": [
    "colors = {0:'red', 1:'blue'}\n",
    "fig, ax = plt.subplots()\n",
    "grouped = df.groupby('label')\n",
    "for key, group in grouped:\n",
    "    group.plot(ax=ax, kind='scatter', x='x', y='y', label=key, color=colors[key])\n",
    "plt.show()"
   ]
  },
  {
   "cell_type": "markdown",
   "metadata": {},
   "source": [
    "This is a good test problem because the classes cannot be separated by a line, e.g. are not linearly separable, requiring a nonlinear method such as a neural network to address.\n",
    "\n",
    "We have only generated 100 samples, which is small for a neural network, providing the opportunity to overfit the training dataset and have higher error on the test dataset: a good case for using regularization.\n",
    "\n",
    "Further, the samples have noise, giving the model an opportunity to learn aspects of the samples that don’t generalize."
   ]
  },
  {
   "cell_type": "markdown",
   "metadata": {},
   "source": [
    "### Overfit Multilayer Perceptron\n",
    "Before we define the model, we will split the dataset into train and test sets, using 30 examples to train the model and 70 to evaluate the fit model’s performance."
   ]
  },
  {
   "cell_type": "code",
   "execution_count": 7,
   "metadata": {},
   "outputs": [],
   "source": [
    "from sklearn.model_selection import train_test_split\n",
    "train_X,test_X,train_y, test_y = train_test_split(X,y,test_size=0.7)"
   ]
  },
  {
   "cell_type": "markdown",
   "metadata": {},
   "source": [
    "#### Define the model\n",
    "The model will have one hidden layer with more nodes that may be required to solve this problem, providing an opportunity to overfit. \n",
    "\n",
    "The hidden layer uses 500 nodes and the rectified linear activation function. A sigmoid activation function is used in the output layer in order to predict class values of 0 or 1.\n",
    "\n",
    "The model is optimized using the binary cross entropy loss function, suitable for binary classification problems and the efficient Adam version of gradient descent."
   ]
  },
  {
   "cell_type": "code",
   "execution_count": 10,
   "metadata": {},
   "outputs": [],
   "source": [
    "# define model\n",
    "from keras.layers import Dense\n",
    "from keras.models import Sequential\n",
    "def baseline_model():\n",
    "    model = Sequential()\n",
    "    model.add(Dense(500, input_dim=2, activation='relu'))\n",
    "    model.add(Dense(1, activation='sigmoid'))\n",
    "    model.compile(loss='binary_crossentropy', optimizer='adam', metrics=['accuracy'])\n",
    "    return model"
   ]
  },
  {
   "cell_type": "markdown",
   "metadata": {},
   "source": [
    "#### fit on the training data for 4,000 epochs and the default batch size of 32."
   ]
  },
  {
   "cell_type": "code",
   "execution_count": 11,
   "metadata": {},
   "outputs": [],
   "source": [
    "# fit model\n",
    "history = baseline_model().fit(train_X, train_y, validation_data=(test_X, test_y), epochs=4000, verbose=0)"
   ]
  },
  {
   "cell_type": "markdown",
   "metadata": {},
   "source": [
    "#### Evaluate the performance"
   ]
  },
  {
   "cell_type": "code",
   "execution_count": 12,
   "metadata": {},
   "outputs": [
    {
     "name": "stdout",
     "output_type": "stream",
     "text": [
      "Train: 0.600, Test: 0.486\n"
     ]
    }
   ],
   "source": [
    "# evaluate the model\n",
    "_, train_acc =built_model().evaluate(train_X, train_y, verbose=0)\n",
    "_, test_acc = built_model().evaluate(test_X, test_y, verbose=0)\n",
    "print('Train: %.3f, Test: %.3f' % (train_acc, test_acc))"
   ]
  },
  {
   "cell_type": "markdown",
   "metadata": {},
   "source": [
    "### Plot the performance\n",
    "If the model does indeed overfit the training dataset, we would expect the line plot of accuracy on the training set to continue to increase and the test set to rise and then fall again as the model learns statistical noise in the training dataset."
   ]
  },
  {
   "cell_type": "code",
   "execution_count": 13,
   "metadata": {},
   "outputs": [
    {
     "data": {
      "image/png": "[encoded data removed]",
      "text/plain": [
       "<Figure size 1152x720 with 1 Axes>"
      ]
     },
     "metadata": {
      "needs_background": "light"
     },
     "output_type": "display_data"
    }
   ],
   "source": [
    "# plot history\n",
    "fig =plt.figure(figsize=(16,10))\n",
    "plt.plot(history.history['accuracy'], label='train')\n",
    "plt.plot(history.history['val_accuracy'], label='test')\n",
    "plt.legend()\n",
    "plt.show()"
   ]
  },
  {
   "cell_type": "markdown",
   "metadata": {},
   "source": [
    "#### the complete example is listed below."
   ]
  },
  {
   "cell_type": "code",
   "execution_count": null,
   "metadata": {},
   "outputs": [],
   "source": [
    "# mlp overfit on the two circles dataset\n",
    "from sklearn.datasets import make_circles\n",
    "from sklearn.model_selection import train_test_split\n",
    "\n",
    "from keras.layers import Dense\n",
    "from keras.models import Sequential\n",
    "\n",
    "from matplotlib import pyplot as plt\n",
    "\n",
    "# generate 2d classification dataset\n",
    "X, y = make_circles(n_samples=100, noise=0.1, random_state=1)\n",
    "\n",
    "# split into train and test\n",
    "train_X,test_X,train_y, test_y = train_test_split(X,y,test_size=0.7)\n",
    "\n",
    "# define model\n",
    "def baseline_model():\n",
    "    model = Sequential()\n",
    "    model.add(Dense(500, input_dim=2, activation='relu'))\n",
    "    model.add(Dense(1, activation='sigmoid'))\n",
    "    model.compile(loss='binary_crossentropy', optimizer='adam', metrics=['accuracy'])\n",
    "    \n",
    "    return model\n",
    "\n",
    "# fit model\n",
    "history = baseline_model.fit(train_X, train_y, validation_data=(test_X, test_y), epochs=4000, verbose=0)\n",
    "# evaluate the model\n",
    "_, train_acc = model.evaluate(train_X, train_y, verbose=0)\n",
    "_, test_acc = model.evaluate(test_X, test_y, verbose=0)\n",
    "print('Train: %.3f, Test: %.3f' % (train_acc, test_acc))\n",
    "# plot history\n",
    "plt.plot(history.history['accuracy'], label='train')\n",
    "plt.plot(history.history['val_accuracy'], label='test')\n",
    "plt.legend()\n",
    "plt.show()"
   ]
  },
  {
   "cell_type": "markdown",
   "metadata": {},
   "source": [
    "We can see that the model has better performance on the training dataset than the test dataset, one possible sign of overfitting.\n",
    "\n",
    "Because the model is severely overfit, we generally would not expect much, if any, variance in the accuracy across repeated runs of the model on the same dataset.\n",
    "\n",
    "A figure has been created showing line plots of the model accuracy on the train and test sets.\n",
    "\n",
    "We can see the expected shape of an overfit model where test accuracy increases to a point and then begins to decrease again."
   ]
  },
  {
   "cell_type": "markdown",
   "metadata": {},
   "source": [
    "#### Overfit MLP With Activation Regularization\n",
    "There are a few different regularization methods to choose from, but it is probably a good idea to use the most common, which is the L1 vector norm.\n",
    "\n",
    "This regularization has the effect of encouraging a sparse representation (lots of zeros), which is supported by the rectified linear activation function that permits true zero values.\n",
    "\n",
    "We can do this by using the keras.regularizers.l1 class in Keras.\n",
    "\n",
    "We will configure the layer to use the linear activation function so that we can regularize the raw outputs, then add a relu activation layer after the regularized outputs of the layer. We will set the regularization hyperparameter to 1E-4 or 0.0001, found with a little trial and error."
   ]
  },
  {
   "cell_type": "code",
   "execution_count": null,
   "metadata": {},
   "outputs": [],
   "source": [
    "model.add(Dense(500, input_dim=2, activation='linear', activity_regularizer=l1(0.0001)))\n",
    "# note that in this setting activity regularization is applied after linear activation function and \n",
    "# then the input of a relu activation layer will be the regularized outputs of previous layer.\n",
    "model.add(Activation('relu'))"
   ]
  },
  {
   "cell_type": "code",
   "execution_count": 15,
   "metadata": {},
   "outputs": [
    {
     "name": "stdout",
     "output_type": "stream",
     "text": [
      "Train: 0.467, Test: 0.514\n"
     ]
    },
    {
     "data": {
      "image/png": "[encoded data removed]",
      "text/plain": [
       "<Figure size 432x288 with 1 Axes>"
      ]
     },
     "metadata": {
      "needs_background": "light"
     },
     "output_type": "display_data"
    }
   ],
   "source": [
    "from keras.regularizers import l1\n",
    "from keras.layers import Activation\n",
    "\n",
    "# define activity regularization model that regularization before relu function\n",
    "def L1_relu_model():\n",
    "    model = Sequential()\n",
    "    model.add(Dense(500, input_dim=2, activation='linear', activity_regularizer=l1(0.0001)))\n",
    "    model.add(Activation('relu'))\n",
    "    model.add(Dense(1, activation='sigmoid'))\n",
    "    model.compile(loss='binary_crossentropy', optimizer='adam', metrics=['accuracy'])\n",
    "    \n",
    "    return model\n",
    "\n",
    "# fit model\n",
    "history = L1_relu_model().fit(train_X, train_y, validation_data=(test_X, test_y), epochs=4000, verbose=0)\n",
    "\n",
    "# evaluate the model\n",
    "_, train_acc = L1_relu_model().evaluate(train_X, train_y, verbose=0)\n",
    "_, test_acc = L1_relu_model().evaluate(test_X, test_y, verbose=0)\n",
    "print('Train: %.3f, Test: %.3f' % (train_acc, test_acc))\n",
    "\n",
    "# plot history\n",
    "plt.plot(history.history['accuracy'], label='train')\n",
    "plt.plot(history.history['val_accuracy'], label='test')\n",
    "plt.legend()\n",
    "plt.show()"
   ]
  },
  {
   "cell_type": "markdown",
   "metadata": {},
   "source": [
    "For completeness, we can compare results to a version of the model where activity regularization is applied after the relu activation function."
   ]
  },
  {
   "cell_type": "code",
   "execution_count": null,
   "metadata": {},
   "outputs": [],
   "source": [
    "model.add(Dense(500, input_dim=2, activation='relu', activity_regularizer=l1(0.0001)))"
   ]
  },
  {
   "cell_type": "code",
   "execution_count": 16,
   "metadata": {},
   "outputs": [
    {
     "name": "stdout",
     "output_type": "stream",
     "text": [
      "Train: 0.567, Test: 0.529\n"
     ]
    },
    {
     "data": {
      "image/png": "[encoded data removed]",
      "text/plain": [
       "<Figure size 432x288 with 1 Axes>"
      ]
     },
     "metadata": {
      "needs_background": "light"
     },
     "output_type": "display_data"
    }
   ],
   "source": [
    "# define activity regularization model that regularization after relu function\n",
    "def relu_L1_model():\n",
    "    model = Sequential()\n",
    "    model.add(Dense(500, input_dim=2, activation='relu', activity_regularizer=l1(0.0001)))\n",
    "    model.add(Dense(1, activation='sigmoid'))\n",
    "    model.compile(loss='binary_crossentropy', optimizer='adam', metrics=['accuracy'])\n",
    "    \n",
    "    return model\n",
    "\n",
    "# fit model\n",
    "history = relu_L1_model().fit(train_X, train_y, validation_data=(test_X, test_y), epochs=4000, verbose=0)\n",
    "# evaluate the model\n",
    "_, train_acc = relu_L1_model().evaluate(train_X, train_y, verbose=0)\n",
    "_, test_acc = relu_L1_model().evaluate(test_X, test_y, verbose=0)\n",
    "print('Train: %.3f, Test: %.3f' % (train_acc, test_acc))\n",
    "# plot history\n",
    "plt.plot(history.history['accuracy'], label='train')\n",
    "plt.plot(history.history['val_accuracy'], label='test')\n",
    "plt.legend()\n",
    "plt.show()"
   ]
  },
  {
   "cell_type": "markdown",
   "metadata": {},
   "source": [
    "__This suggests that it may be worth experimenting with both approaches for implementing activity regularization with your own dataset, to confirm that you are getting the most out of the method.__"
   ]
  },
  {
   "cell_type": "code",
   "execution_count": null,
   "metadata": {},
   "outputs": [],
   "source": []
  }
 ],
 "metadata": {
  "kernelspec": {
   "display_name": "Python 3",
   "language": "python",
   "name": "python3"
  },
  "language_info": {
   "codemirror_mode": {
    "name": "ipython",
    "version": 3
   },
   "file_extension": ".py",
   "mimetype": "text/x-python",
   "name": "python",
   "nbconvert_exporter": "python",
   "pygments_lexer": "ipython3",
   "version": "3.8.5"
  }
 },
 "nbformat": 4,
 "nbformat_minor": 4
}
